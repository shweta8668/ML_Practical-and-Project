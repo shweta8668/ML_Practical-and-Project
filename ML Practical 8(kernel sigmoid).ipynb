{
 "cells": [
  {
   "cell_type": "code",
   "execution_count": 43,
   "id": "622a46c3-af03-4bd6-9134-f9b85d9c1594",
   "metadata": {},
   "outputs": [],
   "source": [
    "import pandas as pd\n",
    "from sklearn.model_selection import train_test_split\n",
    "from sklearn.svm import SVC\n",
    "from sklearn.metrics import accuracy_score, classification_report, confusion_matrix"
   ]
  },
  {
   "cell_type": "code",
   "execution_count": 45,
   "id": "0b411dbf-c6e1-45c7-846e-864350d23938",
   "metadata": {},
   "outputs": [
    {
     "name": "stdout",
     "output_type": "stream",
     "text": [
      "   Variance  Skewness  Curtosis  Entropy  Class\n",
      "0   3.62160    8.6661   -2.8073 -0.44699      0\n",
      "1   4.54590    8.1674   -2.4586 -1.46210      0\n",
      "2   3.86600   -2.6383    1.9242  0.10645      0\n",
      "3   3.45660    9.5228   -4.0112 -3.59440      0\n",
      "4   0.32924   -4.4552    4.5718 -0.98880      0\n"
     ]
    }
   ],
   "source": [
    "data = pd.read_csv(\"bill_authentication.csv\")\n",
    "print(data.head())"
   ]
  },
  {
   "cell_type": "code",
   "execution_count": 47,
   "id": "02945391-5793-41f1-abe3-3660b8cdeca1",
   "metadata": {},
   "outputs": [
    {
     "name": "stdout",
     "output_type": "stream",
     "text": [
      "      Variance  Skewness  Curtosis  Entropy\n",
      "0      3.62160   8.66610   -2.8073 -0.44699\n",
      "1      4.54590   8.16740   -2.4586 -1.46210\n",
      "2      3.86600  -2.63830    1.9242  0.10645\n",
      "3      3.45660   9.52280   -4.0112 -3.59440\n",
      "4      0.32924  -4.45520    4.5718 -0.98880\n",
      "...        ...       ...       ...      ...\n",
      "1367   0.40614   1.34920   -1.4501 -0.55949\n",
      "1368  -1.38870  -4.87730    6.4774  0.34179\n",
      "1369  -3.75030 -13.45860   17.5932 -2.77710\n",
      "1370  -3.56370  -8.38270   12.3930 -1.28230\n",
      "1371  -2.54190  -0.65804    2.6842  1.19520\n",
      "\n",
      "[1372 rows x 4 columns]\n"
     ]
    }
   ],
   "source": [
    "x = data.drop('Class' , axis = 1)\n",
    "print(x)"
   ]
  },
  {
   "cell_type": "code",
   "execution_count": 49,
   "id": "eb290d6c-def3-4f9a-abd3-85fb48264b68",
   "metadata": {},
   "outputs": [
    {
     "name": "stdout",
     "output_type": "stream",
     "text": [
      "0       0\n",
      "1       0\n",
      "2       0\n",
      "3       0\n",
      "4       0\n",
      "       ..\n",
      "1367    1\n",
      "1368    1\n",
      "1369    1\n",
      "1370    1\n",
      "1371    1\n",
      "Name: Class, Length: 1372, dtype: int64\n"
     ]
    }
   ],
   "source": [
    "y = data['Class']\n",
    "print(y)"
   ]
  },
  {
   "cell_type": "code",
   "execution_count": 51,
   "id": "2c50c192-791a-420e-8c03-6ff486f7ada5",
   "metadata": {},
   "outputs": [],
   "source": [
    "from sklearn.model_selection import train_test_split "
   ]
  },
  {
   "cell_type": "code",
   "execution_count": 53,
   "id": "16b7aeef-5d7c-4634-a647-ee417617cd67",
   "metadata": {},
   "outputs": [],
   "source": [
    "# Test Size = 20%"
   ]
  },
  {
   "cell_type": "code",
   "execution_count": 55,
   "id": "985ee44b-21db-458a-ade3-ec387c8e03e5",
   "metadata": {},
   "outputs": [],
   "source": [
    "x_train, x_test, y_train, y_test = train_test_split(x, y, test_size=0.20)"
   ]
  },
  {
   "cell_type": "code",
   "execution_count": 57,
   "id": "23baeebd-1c84-4455-b693-a35922a3f828",
   "metadata": {},
   "outputs": [],
   "source": [
    "model = SVC(kernel='sigmoid')\n",
    "model.fit(x_train, y_train)\n",
    "y_pred = model.predict(x_test)"
   ]
  },
  {
   "cell_type": "code",
   "execution_count": 59,
   "id": "53d639c8-52f0-4e61-b71e-edffb652a390",
   "metadata": {},
   "outputs": [
    {
     "name": "stdout",
     "output_type": "stream",
     "text": [
      "Linear Kernel SVM Accuracy: 0.7018181818181818\n",
      "Classification Report:\n",
      "               precision    recall  f1-score   support\n",
      "\n",
      "           0       0.70      0.76      0.73       145\n",
      "           1       0.70      0.64      0.67       130\n",
      "\n",
      "    accuracy                           0.70       275\n",
      "   macro avg       0.70      0.70      0.70       275\n",
      "weighted avg       0.70      0.70      0.70       275\n",
      "\n",
      "Confusion Matrix:\n",
      " [[110  35]\n",
      " [ 47  83]]\n"
     ]
    }
   ],
   "source": [
    "print(\"Linear Kernel SVM Accuracy:\", accuracy_score(y_test, y_pred))\n",
    "print(\"Classification Report:\\n\", classification_report(y_test, y_pred))\n",
    "cm = confusion_matrix(y_test, y_pred)\n",
    "print(\"Confusion Matrix:\\n\", cm)"
   ]
  },
  {
   "cell_type": "code",
   "execution_count": 87,
   "id": "bd2665c4-4476-4070-bbca-4aa7580f3989",
   "metadata": {},
   "outputs": [],
   "source": [
    "# Test Size = 30"
   ]
  },
  {
   "cell_type": "code",
   "execution_count": 89,
   "id": "a51b8791-d985-45de-bcd3-ffff3d2d30f8",
   "metadata": {},
   "outputs": [],
   "source": [
    "x_train, x_test, y_train, y_test = train_test_split(x, y, test_size=0.30)"
   ]
  },
  {
   "cell_type": "code",
   "execution_count": 91,
   "id": "19a81d26-3673-4b3a-bccb-786cdeec4477",
   "metadata": {},
   "outputs": [],
   "source": [
    "model = SVC(kernel='sigmoid')\n",
    "model.fit(x_train, y_train)\n",
    "y_pred = model.predict(x_test)"
   ]
  },
  {
   "cell_type": "code",
   "execution_count": 93,
   "id": "ac303ae2-c4eb-48e6-af4d-cb785d2234ac",
   "metadata": {},
   "outputs": [
    {
     "name": "stdout",
     "output_type": "stream",
     "text": [
      "Linear Kernel SVM Accuracy: 0.6310679611650486\n",
      "Classification Report:\n",
      "               precision    recall  f1-score   support\n",
      "\n",
      "           0       0.68      0.65      0.66       231\n",
      "           1       0.58      0.61      0.59       181\n",
      "\n",
      "    accuracy                           0.63       412\n",
      "   macro avg       0.63      0.63      0.63       412\n",
      "weighted avg       0.63      0.63      0.63       412\n",
      "\n",
      "Confusion Matrix:\n",
      " [[149  82]\n",
      " [ 70 111]]\n"
     ]
    }
   ],
   "source": [
    "print(\"Linear Kernel SVM Accuracy:\", accuracy_score(y_test, y_pred))\n",
    "print(\"Classification Report:\\n\", classification_report(y_test, y_pred))\n",
    "cm = confusion_matrix(y_test, y_pred)\n",
    "print(\"Confusion Matrix:\\n\", cm)"
   ]
  },
  {
   "cell_type": "code",
   "execution_count": 95,
   "id": "5e941a89-6744-42f5-bc94-836b9602e59e",
   "metadata": {},
   "outputs": [],
   "source": [
    "# Test Size = 35"
   ]
  },
  {
   "cell_type": "code",
   "execution_count": 97,
   "id": "87776bff-aebb-446f-83e1-876fad423f7c",
   "metadata": {},
   "outputs": [],
   "source": [
    "x_train, x_test, y_train, y_test = train_test_split(x, y, test_size=0.30)"
   ]
  },
  {
   "cell_type": "code",
   "execution_count": 99,
   "id": "663b84b9-a6f1-4e88-80f8-989d3ca24b2a",
   "metadata": {},
   "outputs": [],
   "source": [
    "model = SVC(kernel='sigmoid')\n",
    "model.fit(x_train, y_train)\n",
    "y_pred = model.predict(x_test)"
   ]
  },
  {
   "cell_type": "code",
   "execution_count": 101,
   "id": "15e852a1-ae9a-410a-8f03-78a358376f0d",
   "metadata": {},
   "outputs": [
    {
     "name": "stdout",
     "output_type": "stream",
     "text": [
      "Linear Kernel SVM Accuracy: 0.6529126213592233\n",
      "Classification Report:\n",
      "               precision    recall  f1-score   support\n",
      "\n",
      "           0       0.69      0.66      0.68       226\n",
      "           1       0.61      0.64      0.62       186\n",
      "\n",
      "    accuracy                           0.65       412\n",
      "   macro avg       0.65      0.65      0.65       412\n",
      "weighted avg       0.65      0.65      0.65       412\n",
      "\n",
      "Confusion Matrix:\n",
      " [[150  76]\n",
      " [ 67 119]]\n"
     ]
    }
   ],
   "source": [
    "print(\"Linear Kernel SVM Accuracy:\", accuracy_score(y_test, y_pred))\n",
    "print(\"Classification Report:\\n\", classification_report(y_test, y_pred))\n",
    "cm = confusion_matrix(y_test, y_pred)\n",
    "print(\"Confusion Matrix:\\n\", cm)"
   ]
  },
  {
   "cell_type": "code",
   "execution_count": 103,
   "id": "13608a3c-8088-4e1c-9ce4-1b245964aa61",
   "metadata": {},
   "outputs": [],
   "source": [
    "# Test Size = 40"
   ]
  },
  {
   "cell_type": "code",
   "execution_count": 105,
   "id": "23037861-dce2-44dc-a694-b0a56a82309a",
   "metadata": {},
   "outputs": [],
   "source": [
    "x_train, x_test, y_train, y_test = train_test_split(x, y, test_size=0.40)"
   ]
  },
  {
   "cell_type": "code",
   "execution_count": 107,
   "id": "f68341f9-f80a-423e-b1ed-9a67ecb88ba3",
   "metadata": {},
   "outputs": [],
   "source": [
    "model = SVC(kernel='sigmoid')\n",
    "model.fit(x_train, y_train)\n",
    "y_pred = model.predict(x_test)"
   ]
  },
  {
   "cell_type": "code",
   "execution_count": 109,
   "id": "6c2282ad-6f23-49da-9762-f593246638d0",
   "metadata": {},
   "outputs": [
    {
     "name": "stdout",
     "output_type": "stream",
     "text": [
      "Linear Kernel SVM Accuracy: 0.6903460837887068\n",
      "Classification Report:\n",
      "               precision    recall  f1-score   support\n",
      "\n",
      "           0       0.73      0.70      0.71       302\n",
      "           1       0.65      0.68      0.67       247\n",
      "\n",
      "    accuracy                           0.69       549\n",
      "   macro avg       0.69      0.69      0.69       549\n",
      "weighted avg       0.69      0.69      0.69       549\n",
      "\n",
      "Confusion Matrix:\n",
      " [[210  92]\n",
      " [ 78 169]]\n"
     ]
    }
   ],
   "source": [
    "print(\"Linear Kernel SVM Accuracy:\", accuracy_score(y_test, y_pred))\n",
    "print(\"Classification Report:\\n\", classification_report(y_test, y_pred))\n",
    "cm = confusion_matrix(y_test, y_pred)\n",
    "print(\"Confusion Matrix:\\n\", cm)"
   ]
  }
 ],
 "metadata": {
  "kernelspec": {
   "display_name": "Python [conda env:base] *",
   "language": "python",
   "name": "conda-base-py"
  },
  "language_info": {
   "codemirror_mode": {
    "name": "ipython",
    "version": 3
   },
   "file_extension": ".py",
   "mimetype": "text/x-python",
   "name": "python",
   "nbconvert_exporter": "python",
   "pygments_lexer": "ipython3",
   "version": "3.12.7"
  }
 },
 "nbformat": 4,
 "nbformat_minor": 5
}
